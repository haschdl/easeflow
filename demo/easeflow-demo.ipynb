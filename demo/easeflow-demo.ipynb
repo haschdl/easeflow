{
 "cells": [
  {
   "cell_type": "code",
   "execution_count": 1,
   "metadata": {},
   "outputs": [],
   "source": [
    "import easing_functions as easy\n",
    "import numpy as np\n",
    "import math\n",
    "import matplotlib.pyplot as plt\n",
    "from perlin_noise import PerlinNoise\n",
    "from ipywidgets import interact,FloatSlider\n",
    "from typings import *\n",
    "from IPython.display import HTML, display\n"
   ]
  },
  {
   "cell_type": "code",
   "execution_count": null,
   "metadata": {},
   "outputs": [],
   "source": [
    "\n",
    "# Create PerlinNoise object once\n",
    "noise: PerlinNoise = PerlinNoise(octaves=10, seed=1)\n",
    "\n",
    "def apply_noise(easing: callable, x: np.ndarray, noise_max:float,noise_speed:float) -> list:\n",
    "    noise_v = np.vectorize(lambda x : x * (1 - noise_max + noise_max * (1 + noise((x*noise_speed)))))\n",
    "    return list(noise_v(easing(x)))\n",
    "\n",
    "\n",
    "def plot_subplot(ax: plt.Axes, easing_function: callable, x: np.ndarray,noise_max:float,noise_speed:float) -> None:\n",
    "\n",
    "    \n",
    "    easing = np.vectorize(easing_function(start=0.0, end=1.0))\n",
    "    y0 = list(easing(x)) # renders the smooth curve\n",
    "\n",
    "    y1 = apply_noise(easing, x,noise_max,noise_speed) \n",
    "    ax.set_title(easing_function.__name__)\n",
    "    ax.plot(x,y0,label=\"No-noise\",)\n",
    "    ax.plot(x,y1,label=\"With Perlin noise\")\n",
    "\n",
    "\n",
    "def plot_examples(noise_max:float=0.3,noise_speed:float=0.001) -> None:\n",
    "    functions = [easy.CubicEaseInOut,easy.QuadEaseIn,easy.QuinticEaseIn,easy.CircularEaseIn]\n",
    "    fig = plt.figure(figsize=(8,6))\n",
    "    fig.suptitle('Examples of easing functions with noise applied')\n",
    "    grid_x = len(functions)//2;\n",
    "    grid_y = math.ceil(len(functions)/2)\n",
    "    gs = fig.add_gridspec(grid_x,grid_y, hspace=0.2, wspace=0.5,)\n",
    "    \n",
    "    axs = gs.subplots(sharex=True)\n",
    "    \n",
    "    duration_val = 1\n",
    "    for i, easing_function in enumerate(functions): \n",
    "        plot_subplot(axs[i%2][i//2], easing_function, np.arange(0, 1, 0.001),noise_max,noise_speed)\n",
    "\n",
    "\n",
    "def show_examples():\n",
    "    \"\"\"\n",
    "    Renders examples of combining easing functions with Perlin noise.\n",
    "    \"\"\"\n",
    "    noise_max_slider=FloatSlider(value=0.3,min=0.0, max=5.0, step=0.1)\n",
    "    noise_speed_slider=FloatSlider(value=2,min=0.0, max=5.0, step=0.01)\n",
    "    interact(plot_examples,noise_max=noise_max_slider,noise_speed=noise_speed_slider)"
   ]
  },
  {
   "cell_type": "markdown",
   "metadata": {},
   "source": [
    "# Easing functions with Perlin noise\n",
    "\n",
    "We can multiply an easing function by the noise at x, to obtain a curve that slightly changes over time"
   ]
  },
  {
   "cell_type": "code",
   "execution_count": 3,
   "metadata": {},
   "outputs": [
    {
     "data": {
      "application/vnd.jupyter.widget-view+json": {
       "model_id": "d879c65df9644a4a932004b7d717c025",
       "version_major": 2,
       "version_minor": 0
      },
      "text/plain": [
       "interactive(children=(FloatSlider(value=0.3, description='noise_max', max=5.0), FloatSlider(value=2.0, descrip…"
      ]
     },
     "metadata": {},
     "output_type": "display_data"
    }
   ],
   "source": [
    "show_examples()"
   ]
  }
 ],
 "metadata": {
  "kernelspec": {
   "display_name": ".venv",
   "language": "python",
   "name": "python3"
  },
  "language_info": {
   "codemirror_mode": {
    "name": "ipython",
    "version": 3
   },
   "file_extension": ".py",
   "mimetype": "text/x-python",
   "name": "python",
   "nbconvert_exporter": "python",
   "pygments_lexer": "ipython3",
   "version": "3.12.3"
  }
 },
 "nbformat": 4,
 "nbformat_minor": 2
}
